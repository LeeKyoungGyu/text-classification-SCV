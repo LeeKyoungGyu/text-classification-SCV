{
 "cells": [
  {
   "cell_type": "markdown",
   "id": "161ff4b5",
   "metadata": {},
   "source": [
    "# Data Handling\n",
    "## EDA & Preprocess\n",
    "### Data\n",
    "1. DKTC(Dataset of Korean Threatening Conversations)의 훈련 데이터를 살펴봅니다. class별 데이터의 분포를 분석하고 문장 길이를 시각화 합니다.\n",
    "    - [tunib-data](https://github.com/tunib-ai/DKTC)\n",
    "    - train.csv : idx, class, conversation\n",
    "    - class : '협박 대화', '갈취 대화', '직장 내 괴롭힘 대화', '기타 괴롭힘 대화'\n",
    " \n",
    " \n",
    "2. 일반 대화를 추가하고 문장 길이를 기준으로 하여 train 데이터와의 class 분포를 맞춥니다. 데이터의 분포를 시각화하고 분포를 파악하여 분석에 활용할 데이터를 선택합니다.\n",
    "    - [AI Hub](https://www.aihub.or.kr/aihubdata/data/view.do?currMenu=115&topMenu=100&dataSetSn=543)\n",
    "    - normal_data.csv : 18000 개의 대화\n",
    "    - class : '일반 대화'"
   ]
  },
  {
   "cell_type": "markdown",
   "id": "31b0ee1b",
   "metadata": {},
   "source": [
    "### 0. 라이브러리 "
   ]
  },
  {
   "cell_type": "code",
   "execution_count": 1,
   "id": "30c6849c",
   "metadata": {},
   "outputs": [
    {
     "name": "stdout",
     "output_type": "stream",
     "text": [
      "Reading package lists... Done\n",
      "Building dependency tree       \n",
      "Reading state information... Done\n",
      "fonts-nanum is already the newest version (20180306-3).\n",
      "The following packages were automatically installed and are no longer required:\n",
      "  accountsservice-ubuntu-schemas bc bluez-obexd cups cups-browsed cups-client\n",
      "  cups-common cups-core-drivers cups-daemon cups-filters\n",
      "  cups-filters-core-drivers cups-ipp-utils cups-ppdc cups-server-common\n",
      "  fonts-droid-fallback fonts-noto-mono fonts-urw-base35 ghostscript\n",
      "  gir1.2-dbusmenu-glib-0.4 gnome-bluetooth gnome-power-manager\n",
      "  gnome-screensaver gsettings-ubuntu-schemas gvfs-backends indicator-applet\n",
      "  indicator-application indicator-appmenu indicator-bluetooth indicator-common\n",
      "  indicator-datetime indicator-keyboard indicator-messages indicator-power\n",
      "  indicator-printers indicator-session indicator-sound jayatana\n",
      "  libaccounts-glib0 libbamf3-2 libcdio-cdda2 libcdio-paranoia2 libcdio18\n",
      "  libcupsfilters1 libfcitx-config4 libfcitx-gclient1 libfcitx-utils0\n",
      "  libfontembed1 libgnome-panel0 libgs9 libgs9-common libido3-0.1-0 libijs-0.35\n",
      "  libindicator3-7 libjbig2dec0 liblightdm-gobject-1-0 liblouis-data liblouis20\n",
      "  liblouisutdml-bin liblouisutdml-data liblouisutdml9 libmessaging-menu0\n",
      "  libmtp-common libmtp-runtime libmtp9 libnfs13 libpaper-utils libpaper1\n",
      "  libpoppler-cpp0v5 libqpdf26 libunity-gtk2-parser0 libunity-gtk3-parser0\n",
      "  libunity-settings-daemon1 liburl-dispatcher1 lightdm nautilus-data\n",
      "  poppler-utils python3-psutil python3-xdg ssl-cert ubuntu-touch-sounds\n",
      "  unity-greeter unity-gtk-module-common unity-gtk2-module unity-gtk3-module\n",
      "  unity-settings-daemon unity-settings-daemon-schemas\n",
      "Use 'apt autoremove' to remove them.\n",
      "0 upgraded, 0 newly installed, 0 to remove and 0 not upgraded.\n"
     ]
    }
   ],
   "source": [
    "!apt-get install -y fonts-nanum"
   ]
  },
  {
   "cell_type": "code",
   "execution_count": 2,
   "id": "c758b81e",
   "metadata": {},
   "outputs": [],
   "source": [
    "import pandas as pd"
   ]
  },
  {
   "cell_type": "markdown",
   "id": "f7f89394",
   "metadata": {},
   "source": [
    "### 1. 훈련 데이터\n",
    "#### 1.1 훈련 데이터 로드"
   ]
  },
  {
   "cell_type": "code",
   "execution_count": 3,
   "id": "4200739b",
   "metadata": {},
   "outputs": [
    {
     "name": "stdout",
     "output_type": "stream",
     "text": [
      "(3950, 2)\n"
     ]
    },
    {
     "data": {
      "text/html": [
       "<div>\n",
       "<style scoped>\n",
       "    .dataframe tbody tr th:only-of-type {\n",
       "        vertical-align: middle;\n",
       "    }\n",
       "\n",
       "    .dataframe tbody tr th {\n",
       "        vertical-align: top;\n",
       "    }\n",
       "\n",
       "    .dataframe thead th {\n",
       "        text-align: right;\n",
       "    }\n",
       "</style>\n",
       "<table border=\"1\" class=\"dataframe\">\n",
       "  <thead>\n",
       "    <tr style=\"text-align: right;\">\n",
       "      <th></th>\n",
       "      <th>class</th>\n",
       "      <th>conversation</th>\n",
       "    </tr>\n",
       "    <tr>\n",
       "      <th>idx</th>\n",
       "      <th></th>\n",
       "      <th></th>\n",
       "    </tr>\n",
       "  </thead>\n",
       "  <tbody>\n",
       "    <tr>\n",
       "      <th>0</th>\n",
       "      <td>협박 대화</td>\n",
       "      <td>지금 너 스스로를 죽여달라고 애원하는 것인가?\\n 아닙니다. 죄송합니다.\\n 죽을 ...</td>\n",
       "    </tr>\n",
       "    <tr>\n",
       "      <th>1</th>\n",
       "      <td>협박 대화</td>\n",
       "      <td>길동경찰서입니다.\\n9시 40분 마트에 폭발물을 설치할거다.\\n네?\\n똑바로 들어 ...</td>\n",
       "    </tr>\n",
       "    <tr>\n",
       "      <th>2</th>\n",
       "      <td>기타 괴롭힘 대화</td>\n",
       "      <td>너 되게 귀여운거 알지? 나보다 작은 남자는 첨봤어.\\n그만해. 니들 놀리는거 재미...</td>\n",
       "    </tr>\n",
       "    <tr>\n",
       "      <th>3</th>\n",
       "      <td>갈취 대화</td>\n",
       "      <td>어이 거기\\n예??\\n너 말이야 너. 이리 오라고\\n무슨 일.\\n너 옷 좋아보인다?...</td>\n",
       "    </tr>\n",
       "    <tr>\n",
       "      <th>4</th>\n",
       "      <td>갈취 대화</td>\n",
       "      <td>저기요 혹시 날이 너무 뜨겁잖아요? 저희 회사에서 이 선크림 파는데 한 번 손등에 ...</td>\n",
       "    </tr>\n",
       "  </tbody>\n",
       "</table>\n",
       "</div>"
      ],
      "text/plain": [
       "         class                                       conversation\n",
       "idx                                                              \n",
       "0        협박 대화  지금 너 스스로를 죽여달라고 애원하는 것인가?\\n 아닙니다. 죄송합니다.\\n 죽을 ...\n",
       "1        협박 대화  길동경찰서입니다.\\n9시 40분 마트에 폭발물을 설치할거다.\\n네?\\n똑바로 들어 ...\n",
       "2    기타 괴롭힘 대화  너 되게 귀여운거 알지? 나보다 작은 남자는 첨봤어.\\n그만해. 니들 놀리는거 재미...\n",
       "3        갈취 대화  어이 거기\\n예??\\n너 말이야 너. 이리 오라고\\n무슨 일.\\n너 옷 좋아보인다?...\n",
       "4        갈취 대화  저기요 혹시 날이 너무 뜨겁잖아요? 저희 회사에서 이 선크림 파는데 한 번 손등에 ..."
      ]
     },
     "execution_count": 3,
     "metadata": {},
     "output_type": "execute_result"
    }
   ],
   "source": [
    "train_data_path =\"~/aiffel/dktc/data/train.csv\"\n",
    "train_data = pd.read_csv(train_data_path,index_col=0)\n",
    "\n",
    "print(train_data.shape)\n",
    "train_data.head()"
   ]
  },
  {
   "cell_type": "markdown",
   "id": "dc161bfb",
   "metadata": {},
   "source": [
    "#### 1.2-1 훈련 데이터 분포\n",
    "- 훈련데이터의 class별 데이터 분포를 파악합니다."
   ]
  },
  {
   "cell_type": "code",
   "execution_count": 4,
   "id": "0a47063a",
   "metadata": {},
   "outputs": [
    {
     "data": {
      "text/html": [
       "<div>\n",
       "<style scoped>\n",
       "    .dataframe tbody tr th:only-of-type {\n",
       "        vertical-align: middle;\n",
       "    }\n",
       "\n",
       "    .dataframe tbody tr th {\n",
       "        vertical-align: top;\n",
       "    }\n",
       "\n",
       "    .dataframe thead th {\n",
       "        text-align: right;\n",
       "    }\n",
       "</style>\n",
       "<table border=\"1\" class=\"dataframe\">\n",
       "  <thead>\n",
       "    <tr style=\"text-align: right;\">\n",
       "      <th></th>\n",
       "      <th>conversation</th>\n",
       "    </tr>\n",
       "    <tr>\n",
       "      <th>class</th>\n",
       "      <th></th>\n",
       "    </tr>\n",
       "  </thead>\n",
       "  <tbody>\n",
       "    <tr>\n",
       "      <th>갈취 대화</th>\n",
       "      <td>981</td>\n",
       "    </tr>\n",
       "    <tr>\n",
       "      <th>기타 괴롭힘 대화</th>\n",
       "      <td>1094</td>\n",
       "    </tr>\n",
       "    <tr>\n",
       "      <th>직장 내 괴롭힘 대화</th>\n",
       "      <td>979</td>\n",
       "    </tr>\n",
       "    <tr>\n",
       "      <th>협박 대화</th>\n",
       "      <td>896</td>\n",
       "    </tr>\n",
       "  </tbody>\n",
       "</table>\n",
       "</div>"
      ],
      "text/plain": [
       "             conversation\n",
       "class                    \n",
       "갈취 대화                 981\n",
       "기타 괴롭힘 대화            1094\n",
       "직장 내 괴롭힘 대화           979\n",
       "협박 대화                 896"
      ]
     },
     "execution_count": 4,
     "metadata": {},
     "output_type": "execute_result"
    }
   ],
   "source": [
    "train_data.groupby('class').count()"
   ]
  },
  {
   "cell_type": "markdown",
   "id": "e7bef5fd",
   "metadata": {},
   "source": [
    "#### 1.2-2 class 집합\n",
    "- class에 속해있는 데이터들의 집합을 확인합니다"
   ]
  },
  {
   "cell_type": "code",
   "execution_count": 5,
   "id": "03bdd5ed",
   "metadata": {},
   "outputs": [
    {
     "data": {
      "text/plain": [
       "array(['협박 대화', '기타 괴롭힘 대화', '갈취 대화', '직장 내 괴롭힘 대화'], dtype=object)"
      ]
     },
     "execution_count": 5,
     "metadata": {},
     "output_type": "execute_result"
    }
   ],
   "source": [
    "class_set = train_data['class'].unique()\n",
    "class_set"
   ]
  },
  {
   "cell_type": "markdown",
   "id": "c11cb904",
   "metadata": {},
   "source": [
    "#### 1.3 class 별 대화\n",
    "- `iloc[0]` : class 별로 처음 등장하는 대화를 살펴봅니다"
   ]
  },
  {
   "cell_type": "code",
   "execution_count": 6,
   "id": "0b3ab503",
   "metadata": {},
   "outputs": [
    {
     "name": "stdout",
     "output_type": "stream",
     "text": [
      "'협박 대화'\n",
      ": 지금 너 스스로를 죽여달라고 애원하는 것인가?\n",
      " 아닙니다. 죄송합니다.\n",
      " 죽을 거면 혼자 죽지 우리까지 사건에 휘말리게 해? 진짜 죽여버리고 싶게.\n",
      " 정말 잘못했습니다.\n",
      " 너가 선택해. 너가 죽을래 네 가족을 죽여줄까.\n",
      " 죄송합니다. 정말 잘못했습니다.\n",
      " 너에게는 선택권이 없어. 선택 못한다면 너와 네 가족까지 모조리 죽여버릴거야.\n",
      " 선택 못하겠습니다. 한번만 도와주세요.\n",
      " 그냥 다 죽여버려야겠군. 이의 없지?\n",
      " 제발 도와주세요.\n",
      "\n",
      "'갈취 대화'\n",
      ": 어이 거기\n",
      "예??\n",
      "너 말이야 너. 이리 오라고\n",
      "무슨 일.\n",
      "너 옷 좋아보인다?\n",
      "얘 돈 좀 있나봐\n",
      "아니에요.돈 없어요\n",
      "뒤져서 나오면 넌 죽는다\n",
      "오늘 피시방 콜?\n",
      "콜. 마지막 기회다. 있는거 다 내놔\n",
      "정말 없어요\n",
      "\n",
      "'직장 내 괴롭힘 대화'\n",
      ": 나 이틀뒤에 가나다 음식점 예약좀 해줘. 저녁7시로.\n",
      "가나다 음식점이요.?\n",
      "응. 남자친구 부모님한테 인사드리려는데 거기가 예약이 좀 힘들어? 그러니까 수진씨가 좀 해줘.\n",
      "저.팀장님. 저도 월 말 프로젝트로 정신없어서.죄송하지만.\n",
      "사회생활 안 해본 티를 너무 내는거 아니야? 프로젝트만 백날 잘하면 뭐해? 윗 상사한테 잘 보이기도 해야지!\n",
      "하지만 팀 프로젝트라서 이번엔.\n",
      "말 참 이상하게 하네? 이번엔? 내가 뭐 매일같이 이런 심부름이나 시킨다는거야? 뭐야?!\n",
      "아닙니다. 제가 말 실수 했습니다. 말씀하신 예약 꼭 해두겠습니다.\n",
      "이러면 하고도 욕먹는거야! 한번에 네네 알겠습니다 하면 좀 좋아?!\n",
      "죄송합니다. 알겠습니다.\n",
      "\n",
      "'기타 괴롭힘 대화'\n",
      ": 너 되게 귀여운거 알지? 나보다 작은 남자는 첨봤어.\n",
      "그만해. 니들 놀리는거 재미없어.\n",
      "지영아 너가 키 160이지? 그럼 재는 160도 안돼는거네?\n",
      "너 군대도 안가고 좋겠다.\n",
      "니들이 나 작은데 보태준거 있냐?\n",
      "난쟁이들도 장가가고하던데. 너도 희망을 가져봐 \n",
      "더이상 하지마라. \n",
      "그 키크는 수술도 있대잖아? 니네 엄마는 그거 안해주디?\n",
      "나람 해줬어. 저 키로 어찌살아.\n",
      "제발 그만 괴롭히라고!\n"
     ]
    }
   ],
   "source": [
    "print(\"'{1}'\\n: {0}\".format(train_data[train_data['class'] == class_set[0]].iloc[0]['conversation'],class_set[0]))\n",
    "print(\"\\n'{1}'\\n: {0}\".format(train_data[train_data['class'] == class_set[2]].iloc[0]['conversation'],class_set[2]))\n",
    "print(\"\\n'{1}'\\n: {0}\".format(train_data[train_data['class'] == class_set[3]].iloc[0]['conversation'],class_set[3]))\n",
    "print(\"\\n'{1}'\\n: {0}\".format(train_data[train_data['class'] == class_set[1]].iloc[0]['conversation'],class_set[1]))"
   ]
  },
  {
   "cell_type": "markdown",
   "id": "5d9af5e5",
   "metadata": {},
   "source": [
    "### 2. 대화 길이의 시각화 및 분포\n",
    "#### 2.1 대화의 평균 길이 함수 정의"
   ]
  },
  {
   "cell_type": "code",
   "execution_count": 7,
   "id": "c54e44f3",
   "metadata": {},
   "outputs": [],
   "source": [
    "def mean_len(text_list):\n",
    "    total_length = sum(len(text) for text in text_list)\n",
    "    average_length = total_length / len(text_list)\n",
    "    return average_length"
   ]
  },
  {
   "cell_type": "markdown",
   "id": "3915744f",
   "metadata": {},
   "source": [
    "#### 2.2 대화 길이 시각화\n",
    "- 모든 데이터의 대화\n",
    "    - 대화 길이 분포 시각화\n",
    "    - 최대 길이\n",
    "    - 평균 길이\n",
    "- class 별 대화\n",
    "    - 대화 길이 분포 시각화\n",
    "    - 평균 길이"
   ]
  },
  {
   "cell_type": "code",
   "execution_count": 8,
   "id": "741167a2",
   "metadata": {},
   "outputs": [
    {
     "data": {
      "image/png": "[encoded data removed]",
      "text/plain": [
       "<Figure size 432x288 with 1 Axes>"
      ]
     },
     "metadata": {
      "needs_background": "light"
     },
     "output_type": "display_data"
    },
    {
     "name": "stdout",
     "output_type": "stream",
     "text": [
      "max len:  874\n",
      "total mean len: 227\n"
     ]
    },
    {
     "data": {
      "image/png": "[encoded data removed]",
      "text/plain": [
       "<Figure size 1440x720 with 4 Axes>"
      ]
     },
     "metadata": {
      "needs_background": "light"
     },
     "output_type": "display_data"
    },
    {
     "name": "stdout",
     "output_type": "stream",
     "text": [
      "협박 대화 mean len: 246\n",
      "기타 괴롭힘 대화 mean len: 210\n",
      "갈취 대화 mean len: 216\n",
      "직장 내 괴롭힘 대화 mean len: 238\n"
     ]
    }
   ],
   "source": [
    "import matplotlib.pyplot as plt\n",
    "import matplotlib.font_manager as fm\n",
    "plt.rc('font', family='NanumGothic')\n",
    "\n",
    "# total data\n",
    "plt.hist([len(review) for review in train_data['conversation']], bins=50)\n",
    "plt.show()\n",
    "print('max len: ', max(len(review) for review in train_data['conversation']))\n",
    "print(\"total mean len: {0:.0f}\".format(mean_len(train_data['conversation'])))\n",
    "\n",
    "\n",
    "# class data\n",
    "fig, axes = plt.subplots(nrows=2, ncols=2, figsize=(20, 10))\n",
    "axes[0][0].hist([len(s) for s in train_data['conversation'][train_data['class']==class_set[0]]], bins=50)\n",
    "axes[0][0].set_title(class_set[0])\n",
    "\n",
    "axes[0][1].hist([len(s) for s in train_data['conversation'][train_data['class']==class_set[2]]], bins=50)\n",
    "axes[0][1].set_title(class_set[2])\n",
    "\n",
    "axes[1][0].hist([len(s) for s in train_data['conversation'][train_data['class']==class_set[3]]], bins=50)\n",
    "axes[1][0].set_title(class_set[3])\n",
    "\n",
    "axes[1][1].hist([len(s) for s in train_data['conversation'][train_data['class']==class_set[1]]], bins=50)\n",
    "axes[1][1].set_title(class_set[1])\n",
    "plt.show()\n",
    "\n",
    "for set in class_set:\n",
    "    data = train_data[train_data['class'] == set]['conversation']\n",
    "    print(\"{0} mean len: {1:.0f}\".format(set, mean_len(data)))\n"
   ]
  },
  {
   "cell_type": "markdown",
   "id": "88008ae7",
   "metadata": {},
   "source": [
    "### 3. 일반 대화 데이터\n",
    "#### 3.1 일반 대화 데이터 로드"
   ]
  },
  {
   "cell_type": "code",
   "execution_count": 9,
   "id": "8bad0e07",
   "metadata": {},
   "outputs": [
    {
     "data": {
      "text/html": [
       "<div>\n",
       "<style scoped>\n",
       "    .dataframe tbody tr th:only-of-type {\n",
       "        vertical-align: middle;\n",
       "    }\n",
       "\n",
       "    .dataframe tbody tr th {\n",
       "        vertical-align: top;\n",
       "    }\n",
       "\n",
       "    .dataframe thead th {\n",
       "        text-align: right;\n",
       "    }\n",
       "</style>\n",
       "<table border=\"1\" class=\"dataframe\">\n",
       "  <thead>\n",
       "    <tr style=\"text-align: right;\">\n",
       "      <th></th>\n",
       "      <th>idx</th>\n",
       "      <th>class</th>\n",
       "      <th>conversation</th>\n",
       "    </tr>\n",
       "  </thead>\n",
       "  <tbody>\n",
       "    <tr>\n",
       "      <th>41</th>\n",
       "      <td>41</td>\n",
       "      <td>일반 대화</td>\n",
       "      <td>일본 화산 터진 거 아냐?\\n머라구?키키 또?\\n헐 일본?\\n어뜩하냐...\\n아소산...</td>\n",
       "    </tr>\n",
       "    <tr>\n",
       "      <th>46</th>\n",
       "      <td>46</td>\n",
       "      <td>일반 대화</td>\n",
       "      <td>얌 좀 뛰니까 배가 들어갔어?\\n아니 배고파서 저녁에 뭐 먹었어\\n다이어트 해야 하...</td>\n",
       "    </tr>\n",
       "    <tr>\n",
       "      <th>61</th>\n",
       "      <td>61</td>\n",
       "      <td>일반 대화</td>\n",
       "      <td>얌 애 키우면 인테리어는 포기지?\\n. 응 없다고 봐야지...\\n아기 짐이 오지게 ...</td>\n",
       "    </tr>\n",
       "    <tr>\n",
       "      <th>62</th>\n",
       "      <td>62</td>\n",
       "      <td>일반 대화</td>\n",
       "      <td>너 옷 어디 쇼핑몰에서 삼?\\n나는 그냥 아무데서나 사는데 보이는데\\n너 예전에 어...</td>\n",
       "    </tr>\n",
       "    <tr>\n",
       "      <th>65</th>\n",
       "      <td>65</td>\n",
       "      <td>일반 대화</td>\n",
       "      <td>다들 점심 식사 했어?\\n엉 너무 배불러 ㅜㅜ\\n응 나도  좀 전에 밥 먹었어\\n난...</td>\n",
       "    </tr>\n",
       "    <tr>\n",
       "      <th>...</th>\n",
       "      <td>...</td>\n",
       "      <td>...</td>\n",
       "      <td>...</td>\n",
       "    </tr>\n",
       "    <tr>\n",
       "      <th>17929</th>\n",
       "      <td>17929</td>\n",
       "      <td>일반 대화</td>\n",
       "      <td>아 피자 먹고 싶다 맛있는 곳 없냐\\n나는 잘 몰라\\n피자보단 햄버거지\\n햄버거 뭐...</td>\n",
       "    </tr>\n",
       "    <tr>\n",
       "      <th>17963</th>\n",
       "      <td>17963</td>\n",
       "      <td>일반 대화</td>\n",
       "      <td>오늘도 날씨 흐리더라!\\n어 아까 비 오던데 ㅠㅜ\\n엉 ㅠㅠ 비가 조금씩 내린다\\n...</td>\n",
       "    </tr>\n",
       "    <tr>\n",
       "      <th>17972</th>\n",
       "      <td>17972</td>\n",
       "      <td>일반 대화</td>\n",
       "      <td>*이 동생은 그럼...\\n2년 뒤로 생각 중인데...\\n성별은 아무래도 상관없지?\\...</td>\n",
       "    </tr>\n",
       "    <tr>\n",
       "      <th>17988</th>\n",
       "      <td>17988</td>\n",
       "      <td>일반 대화</td>\n",
       "      <td>야 여행 가기 너무 좋은 날씨다\\n날씨 진짜 너무 좋아 **이는 일하기 싫을 날씨야...</td>\n",
       "    </tr>\n",
       "    <tr>\n",
       "      <th>17995</th>\n",
       "      <td>17995</td>\n",
       "      <td>일반 대화</td>\n",
       "      <td>오빠야는 형제 있나?\\n어 남동생 있다 하하\\n그럼 오빠야랑 남동생이랑 둘이야?\\n...</td>\n",
       "    </tr>\n",
       "  </tbody>\n",
       "</table>\n",
       "<p>880 rows × 3 columns</p>\n",
       "</div>"
      ],
      "text/plain": [
       "         idx  class                                       conversation\n",
       "41        41  일반 대화  일본 화산 터진 거 아냐?\\n머라구?키키 또?\\n헐 일본?\\n어뜩하냐...\\n아소산...\n",
       "46        46  일반 대화  얌 좀 뛰니까 배가 들어갔어?\\n아니 배고파서 저녁에 뭐 먹었어\\n다이어트 해야 하...\n",
       "61        61  일반 대화  얌 애 키우면 인테리어는 포기지?\\n. 응 없다고 봐야지...\\n아기 짐이 오지게 ...\n",
       "62        62  일반 대화  너 옷 어디 쇼핑몰에서 삼?\\n나는 그냥 아무데서나 사는데 보이는데\\n너 예전에 어...\n",
       "65        65  일반 대화  다들 점심 식사 했어?\\n엉 너무 배불러 ㅜㅜ\\n응 나도  좀 전에 밥 먹었어\\n난...\n",
       "...      ...    ...                                                ...\n",
       "17929  17929  일반 대화  아 피자 먹고 싶다 맛있는 곳 없냐\\n나는 잘 몰라\\n피자보단 햄버거지\\n햄버거 뭐...\n",
       "17963  17963  일반 대화  오늘도 날씨 흐리더라!\\n어 아까 비 오던데 ㅠㅜ\\n엉 ㅠㅠ 비가 조금씩 내린다\\n...\n",
       "17972  17972  일반 대화  *이 동생은 그럼...\\n2년 뒤로 생각 중인데...\\n성별은 아무래도 상관없지?\\...\n",
       "17988  17988  일반 대화  야 여행 가기 너무 좋은 날씨다\\n날씨 진짜 너무 좋아 **이는 일하기 싫을 날씨야...\n",
       "17995  17995  일반 대화  오빠야는 형제 있나?\\n어 남동생 있다 하하\\n그럼 오빠야랑 남동생이랑 둘이야?\\n...\n",
       "\n",
       "[880 rows x 3 columns]"
      ]
     },
     "execution_count": 9,
     "metadata": {},
     "output_type": "execute_result"
    }
   ],
   "source": [
    "file_path = \"~/aiffel/dktc/data2/normal_data.csv\"  \n",
    "train_normal_data = pd.read_csv(file_path)\n",
    "df = train_normal_data.copy()\n",
    "\n",
    "df['conversation_length'] = df['conversation'].str.len()\n",
    "filtered_df = df[(df['conversation_length'] >= 50) & (df['conversation_length'] <= 300)]\n",
    "filtered_df = filtered_df[['idx', 'class', 'conversation']]\n",
    "filtered_df.to_csv('~/aiffel/dktc/data2/normal_data300.csv', index=False)\n",
    "\n",
    "filtered_df"
   ]
  },
  {
   "cell_type": "markdown",
   "id": "781f2135",
   "metadata": {},
   "source": [
    "#### 3.2 일반 대화 예시"
   ]
  },
  {
   "cell_type": "code",
   "execution_count": 10,
   "id": "90f06571",
   "metadata": {},
   "outputs": [
    {
     "name": "stdout",
     "output_type": "stream",
     "text": [
      "'일반 대화'\n",
      ": 일본 화산 터진 거 아냐?\n",
      "머라구?키키 또?\n",
      "헐 일본?\n",
      "어뜩하냐...\n",
      "아소산인가 그거 터짐\n",
      "일본은 진짜 문제 있구나 ㄷㄷ\n",
      "우리 더 조심해야지 ㅠㅠ\n",
      "근데 신기한 점은\n",
      "와우 진짜 노재팬이야\n",
      "백두산 조심해야 돼 ㅠㅠ\n",
      "우리 남편 거기로 수학 여행 다녀왔대\n",
      "엥 딱 그 지역으로?\n",
      "일본 좋긴 한데 무서워\n",
      "그때도 활화산이었대...\n",
      "헐 진짜 무서운 곳이군 ㄷㄷ\n",
      "무서운 곳이구나 ㅠㅠ\n",
      "그 산으로!\n",
      "그때 화산 부글부글 해서 대피 했었대 키키\n",
      "우리나라는 백두산만 조심하면 되나? 키키\n",
      "백두산 조심해얒; ㅠㅠ\n"
     ]
    }
   ],
   "source": [
    "print(\"'일반 대화'\\n: {0}\".format(filtered_df['conversation'].iloc[0]))"
   ]
  },
  {
   "cell_type": "markdown",
   "id": "85647627",
   "metadata": {},
   "source": [
    "#### 3.3 일반 대화 길이 시각화\n",
    "- 일반 대화 길이 분포 시각화\n",
    "- 일반 대화 평균 길이"
   ]
  },
  {
   "cell_type": "code",
   "execution_count": 11,
   "id": "443c09f9",
   "metadata": {},
   "outputs": [
    {
     "data": {
      "image/png": "[encoded data removed]",
      "text/plain": [
       "<Figure size 432x288 with 1 Axes>"
      ]
     },
     "metadata": {
      "needs_background": "light"
     },
     "output_type": "display_data"
    },
    {
     "name": "stdout",
     "output_type": "stream",
     "text": [
      "일반 대화 mean len: 277\n"
     ]
    }
   ],
   "source": [
    "data = filtered_df['conversation']\n",
    "\n",
    "plt.hist([len(review) for review in data], bins=50)\n",
    "plt.show()\n",
    "print(\"일반 대화 mean len: {:.0f}\".format(mean_len(data)))"
   ]
  },
  {
   "cell_type": "markdown",
   "id": "8a70a0ab",
   "metadata": {},
   "source": [
    "### 4. 훈련 데이터, 일반 대화 데이터 병합"
   ]
  },
  {
   "cell_type": "code",
   "execution_count": 12,
   "id": "8434a036",
   "metadata": {},
   "outputs": [
    {
     "data": {
      "text/html": [
       "<div>\n",
       "<style scoped>\n",
       "    .dataframe tbody tr th:only-of-type {\n",
       "        vertical-align: middle;\n",
       "    }\n",
       "\n",
       "    .dataframe tbody tr th {\n",
       "        vertical-align: top;\n",
       "    }\n",
       "\n",
       "    .dataframe thead th {\n",
       "        text-align: right;\n",
       "    }\n",
       "</style>\n",
       "<table border=\"1\" class=\"dataframe\">\n",
       "  <thead>\n",
       "    <tr style=\"text-align: right;\">\n",
       "      <th></th>\n",
       "      <th>class</th>\n",
       "      <th>conversation</th>\n",
       "    </tr>\n",
       "  </thead>\n",
       "  <tbody>\n",
       "    <tr>\n",
       "      <th>0</th>\n",
       "      <td>협박 대화</td>\n",
       "      <td>지금 너 스스로를 죽여달라고 애원하는 것인가?\\n 아닙니다. 죄송합니다.\\n 죽을 ...</td>\n",
       "    </tr>\n",
       "    <tr>\n",
       "      <th>1</th>\n",
       "      <td>협박 대화</td>\n",
       "      <td>길동경찰서입니다.\\n9시 40분 마트에 폭발물을 설치할거다.\\n네?\\n똑바로 들어 ...</td>\n",
       "    </tr>\n",
       "    <tr>\n",
       "      <th>2</th>\n",
       "      <td>기타 괴롭힘 대화</td>\n",
       "      <td>너 되게 귀여운거 알지? 나보다 작은 남자는 첨봤어.\\n그만해. 니들 놀리는거 재미...</td>\n",
       "    </tr>\n",
       "    <tr>\n",
       "      <th>3</th>\n",
       "      <td>갈취 대화</td>\n",
       "      <td>어이 거기\\n예??\\n너 말이야 너. 이리 오라고\\n무슨 일.\\n너 옷 좋아보인다?...</td>\n",
       "    </tr>\n",
       "    <tr>\n",
       "      <th>4</th>\n",
       "      <td>갈취 대화</td>\n",
       "      <td>저기요 혹시 날이 너무 뜨겁잖아요? 저희 회사에서 이 선크림 파는데 한 번 손등에 ...</td>\n",
       "    </tr>\n",
       "    <tr>\n",
       "      <th>...</th>\n",
       "      <td>...</td>\n",
       "      <td>...</td>\n",
       "    </tr>\n",
       "    <tr>\n",
       "      <th>4825</th>\n",
       "      <td>일반 대화</td>\n",
       "      <td>아 피자 먹고 싶다 맛있는 곳 없냐\\n나는 잘 몰라\\n피자보단 햄버거지\\n햄버거 뭐...</td>\n",
       "    </tr>\n",
       "    <tr>\n",
       "      <th>4826</th>\n",
       "      <td>일반 대화</td>\n",
       "      <td>오늘도 날씨 흐리더라!\\n어 아까 비 오던데 ㅠㅜ\\n엉 ㅠㅠ 비가 조금씩 내린다\\n...</td>\n",
       "    </tr>\n",
       "    <tr>\n",
       "      <th>4827</th>\n",
       "      <td>일반 대화</td>\n",
       "      <td>*이 동생은 그럼...\\n2년 뒤로 생각 중인데...\\n성별은 아무래도 상관없지?\\...</td>\n",
       "    </tr>\n",
       "    <tr>\n",
       "      <th>4828</th>\n",
       "      <td>일반 대화</td>\n",
       "      <td>야 여행 가기 너무 좋은 날씨다\\n날씨 진짜 너무 좋아 **이는 일하기 싫을 날씨야...</td>\n",
       "    </tr>\n",
       "    <tr>\n",
       "      <th>4829</th>\n",
       "      <td>일반 대화</td>\n",
       "      <td>오빠야는 형제 있나?\\n어 남동생 있다 하하\\n그럼 오빠야랑 남동생이랑 둘이야?\\n...</td>\n",
       "    </tr>\n",
       "  </tbody>\n",
       "</table>\n",
       "<p>4830 rows × 2 columns</p>\n",
       "</div>"
      ],
      "text/plain": [
       "          class                                       conversation\n",
       "0         협박 대화  지금 너 스스로를 죽여달라고 애원하는 것인가?\\n 아닙니다. 죄송합니다.\\n 죽을 ...\n",
       "1         협박 대화  길동경찰서입니다.\\n9시 40분 마트에 폭발물을 설치할거다.\\n네?\\n똑바로 들어 ...\n",
       "2     기타 괴롭힘 대화  너 되게 귀여운거 알지? 나보다 작은 남자는 첨봤어.\\n그만해. 니들 놀리는거 재미...\n",
       "3         갈취 대화  어이 거기\\n예??\\n너 말이야 너. 이리 오라고\\n무슨 일.\\n너 옷 좋아보인다?...\n",
       "4         갈취 대화  저기요 혹시 날이 너무 뜨겁잖아요? 저희 회사에서 이 선크림 파는데 한 번 손등에 ...\n",
       "...         ...                                                ...\n",
       "4825      일반 대화  아 피자 먹고 싶다 맛있는 곳 없냐\\n나는 잘 몰라\\n피자보단 햄버거지\\n햄버거 뭐...\n",
       "4826      일반 대화  오늘도 날씨 흐리더라!\\n어 아까 비 오던데 ㅠㅜ\\n엉 ㅠㅠ 비가 조금씩 내린다\\n...\n",
       "4827      일반 대화  *이 동생은 그럼...\\n2년 뒤로 생각 중인데...\\n성별은 아무래도 상관없지?\\...\n",
       "4828      일반 대화  야 여행 가기 너무 좋은 날씨다\\n날씨 진짜 너무 좋아 **이는 일하기 싫을 날씨야...\n",
       "4829      일반 대화  오빠야는 형제 있나?\\n어 남동생 있다 하하\\n그럼 오빠야랑 남동생이랑 둘이야?\\n...\n",
       "\n",
       "[4830 rows x 2 columns]"
      ]
     },
     "execution_count": 12,
     "metadata": {},
     "output_type": "execute_result"
    }
   ],
   "source": [
    "file_path = '~/aiffel/dktc/data2/normal_data300.csv' \n",
    "train_normal_data = pd.read_csv(file_path)\n",
    "\n",
    "combined_df = pd.concat([train_data[['class', 'conversation']], train_normal_data[['class', 'conversation']]], ignore_index=True)\n",
    "combined_df"
   ]
  },
  {
   "cell_type": "markdown",
   "id": "7cdfecfd",
   "metadata": {},
   "source": [
    "#### 4.1 데이터 shuffle, idx 초기화"
   ]
  },
  {
   "cell_type": "code",
   "execution_count": 13,
   "id": "b09ec42c",
   "metadata": {},
   "outputs": [
    {
     "data": {
      "text/html": [
       "<div>\n",
       "<style scoped>\n",
       "    .dataframe tbody tr th:only-of-type {\n",
       "        vertical-align: middle;\n",
       "    }\n",
       "\n",
       "    .dataframe tbody tr th {\n",
       "        vertical-align: top;\n",
       "    }\n",
       "\n",
       "    .dataframe thead th {\n",
       "        text-align: right;\n",
       "    }\n",
       "</style>\n",
       "<table border=\"1\" class=\"dataframe\">\n",
       "  <thead>\n",
       "    <tr style=\"text-align: right;\">\n",
       "      <th></th>\n",
       "      <th>idx</th>\n",
       "      <th>class</th>\n",
       "      <th>conversation</th>\n",
       "    </tr>\n",
       "  </thead>\n",
       "  <tbody>\n",
       "    <tr>\n",
       "      <th>0</th>\n",
       "      <td>1</td>\n",
       "      <td>기타 괴롭힘 대화</td>\n",
       "      <td>저기요 사장님\\n네 무슨일인가요?\\n제가 여기서 짜장면을 사갔는데.상태가 안좋네요....</td>\n",
       "    </tr>\n",
       "    <tr>\n",
       "      <th>1</th>\n",
       "      <td>2</td>\n",
       "      <td>협박 대화</td>\n",
       "      <td>어꺠를 쳤으면 사과를 해야지.\\n세상이 말세다. 말세야 너가 뭔데 사과를 해라마라야...</td>\n",
       "    </tr>\n",
       "    <tr>\n",
       "      <th>2</th>\n",
       "      <td>3</td>\n",
       "      <td>협박 대화</td>\n",
       "      <td>이새끼야 내돈가지고와\\n한번만 봐주세요 .다음주까지가지고올게요\\n됏고 이새끼야 야!...</td>\n",
       "    </tr>\n",
       "    <tr>\n",
       "      <th>3</th>\n",
       "      <td>4</td>\n",
       "      <td>일반 대화</td>\n",
       "      <td>정촌은 버스가 늘어야 행\\n너무 불편함\\n버스 노선 너무 길어 ㅠㅠ\\n버스가 넘 없...</td>\n",
       "    </tr>\n",
       "    <tr>\n",
       "      <th>4</th>\n",
       "      <td>5</td>\n",
       "      <td>직장 내 괴롭힘 대화</td>\n",
       "      <td>박과장 일로와바\\n네 부르셨습니까\\n요즘 이대리 일을 하는거야 마는거야\\n그게 무슨...</td>\n",
       "    </tr>\n",
       "    <tr>\n",
       "      <th>...</th>\n",
       "      <td>...</td>\n",
       "      <td>...</td>\n",
       "      <td>...</td>\n",
       "    </tr>\n",
       "    <tr>\n",
       "      <th>4825</th>\n",
       "      <td>4826</td>\n",
       "      <td>기타 괴롭힘 대화</td>\n",
       "      <td>저기 이 제품 좀 꺼내서 볼 수 있나요?\\n네? 어떤 제품 말씀하세요 고객님?\\n여...</td>\n",
       "    </tr>\n",
       "    <tr>\n",
       "      <th>4826</th>\n",
       "      <td>4827</td>\n",
       "      <td>기타 괴롭힘 대화</td>\n",
       "      <td>우리 귀여운 철수야 여기 돈 줄테니까 핫도그랑 콜라좀 사다줄래? 남은 돈은 너 가져...</td>\n",
       "    </tr>\n",
       "    <tr>\n",
       "      <th>4827</th>\n",
       "      <td>4828</td>\n",
       "      <td>협박 대화</td>\n",
       "      <td>후보직 사퇴해\\n무슨뜬금없는소리야\\n니 가정 파탄나기싫으면 사퇴하라고\\n내가 이런 ...</td>\n",
       "    </tr>\n",
       "    <tr>\n",
       "      <th>4828</th>\n",
       "      <td>4829</td>\n",
       "      <td>직장 내 괴롭힘 대화</td>\n",
       "      <td>오늘 저녁에 회사 업무 끝나고 사장님 생일 때 할 공연 준비해야하는거 알지? 다 남...</td>\n",
       "    </tr>\n",
       "    <tr>\n",
       "      <th>4829</th>\n",
       "      <td>4830</td>\n",
       "      <td>기타 괴롭힘 대화</td>\n",
       "      <td>아 찐따새끼 진짜 쟤 저렇게 맞고도 학교 잘 나온다\\n그러게 쟤도 참 징하다 나 같...</td>\n",
       "    </tr>\n",
       "  </tbody>\n",
       "</table>\n",
       "<p>4830 rows × 3 columns</p>\n",
       "</div>"
      ],
      "text/plain": [
       "       idx        class                                       conversation\n",
       "0        1    기타 괴롭힘 대화  저기요 사장님\\n네 무슨일인가요?\\n제가 여기서 짜장면을 사갔는데.상태가 안좋네요....\n",
       "1        2        협박 대화  어꺠를 쳤으면 사과를 해야지.\\n세상이 말세다. 말세야 너가 뭔데 사과를 해라마라야...\n",
       "2        3        협박 대화  이새끼야 내돈가지고와\\n한번만 봐주세요 .다음주까지가지고올게요\\n됏고 이새끼야 야!...\n",
       "3        4        일반 대화  정촌은 버스가 늘어야 행\\n너무 불편함\\n버스 노선 너무 길어 ㅠㅠ\\n버스가 넘 없...\n",
       "4        5  직장 내 괴롭힘 대화  박과장 일로와바\\n네 부르셨습니까\\n요즘 이대리 일을 하는거야 마는거야\\n그게 무슨...\n",
       "...    ...          ...                                                ...\n",
       "4825  4826    기타 괴롭힘 대화  저기 이 제품 좀 꺼내서 볼 수 있나요?\\n네? 어떤 제품 말씀하세요 고객님?\\n여...\n",
       "4826  4827    기타 괴롭힘 대화  우리 귀여운 철수야 여기 돈 줄테니까 핫도그랑 콜라좀 사다줄래? 남은 돈은 너 가져...\n",
       "4827  4828        협박 대화  후보직 사퇴해\\n무슨뜬금없는소리야\\n니 가정 파탄나기싫으면 사퇴하라고\\n내가 이런 ...\n",
       "4828  4829  직장 내 괴롭힘 대화  오늘 저녁에 회사 업무 끝나고 사장님 생일 때 할 공연 준비해야하는거 알지? 다 남...\n",
       "4829  4830    기타 괴롭힘 대화  아 찐따새끼 진짜 쟤 저렇게 맞고도 학교 잘 나온다\\n그러게 쟤도 참 징하다 나 같...\n",
       "\n",
       "[4830 rows x 3 columns]"
      ]
     },
     "execution_count": 13,
     "metadata": {},
     "output_type": "execute_result"
    }
   ],
   "source": [
    "shuffled_df = combined_df.sample(frac=1).reset_index(drop=True)\n",
    "\n",
    "shuffled_df['idx'] = range(1, len(shuffled_df) + 1)\n",
    "cols = ['idx'] + [col for col in shuffled_df.columns if col != 'idx']\n",
    "shuffled_df = shuffled_df[cols]\n",
    "\n",
    "shuffled_df.to_csv('~/aiffel/dktc/data2/train0.csv', index=False)\n",
    "shuffled_df"
   ]
  },
  {
   "cell_type": "code",
   "execution_count": 14,
   "id": "9f32b955",
   "metadata": {},
   "outputs": [
    {
     "data": {
      "image/png": "[encoded data removed]",
      "text/plain": [
       "<Figure size 576x432 with 1 Axes>"
      ]
     },
     "metadata": {
      "needs_background": "light"
     },
     "output_type": "display_data"
    },
    {
     "data": {
      "text/html": [
       "<div>\n",
       "<style scoped>\n",
       "    .dataframe tbody tr th:only-of-type {\n",
       "        vertical-align: middle;\n",
       "    }\n",
       "\n",
       "    .dataframe tbody tr th {\n",
       "        vertical-align: top;\n",
       "    }\n",
       "\n",
       "    .dataframe thead th {\n",
       "        text-align: right;\n",
       "    }\n",
       "</style>\n",
       "<table border=\"1\" class=\"dataframe\">\n",
       "  <thead>\n",
       "    <tr style=\"text-align: right;\">\n",
       "      <th></th>\n",
       "      <th>conversation</th>\n",
       "    </tr>\n",
       "    <tr>\n",
       "      <th>class</th>\n",
       "      <th></th>\n",
       "    </tr>\n",
       "  </thead>\n",
       "  <tbody>\n",
       "    <tr>\n",
       "      <th>갈취 대화</th>\n",
       "      <td>981</td>\n",
       "    </tr>\n",
       "    <tr>\n",
       "      <th>기타 괴롭힘 대화</th>\n",
       "      <td>1094</td>\n",
       "    </tr>\n",
       "    <tr>\n",
       "      <th>직장 내 괴롭힘 대화</th>\n",
       "      <td>979</td>\n",
       "    </tr>\n",
       "    <tr>\n",
       "      <th>협박 대화</th>\n",
       "      <td>896</td>\n",
       "    </tr>\n",
       "  </tbody>\n",
       "</table>\n",
       "</div>"
      ],
      "text/plain": [
       "             conversation\n",
       "class                    \n",
       "갈취 대화                 981\n",
       "기타 괴롭힘 대화            1094\n",
       "직장 내 괴롭힘 대화           979\n",
       "협박 대화                 896"
      ]
     },
     "execution_count": 14,
     "metadata": {},
     "output_type": "execute_result"
    }
   ],
   "source": [
    "import numpy as np\n",
    "class_counts = shuffled_df['class'].value_counts()\n",
    "\n",
    "desired_order = ['협박 대화', '갈취 대화', '직장 내 괴롭힘 대화', '기타 괴롭힘 대화','일반 대화']\n",
    "class_counts = class_counts.reindex(desired_order)\n",
    "\n",
    "plt.figure(figsize=(8, 6))\n",
    "plt.bar(class_counts.index, class_counts.values)\n",
    "plt.xticks(rotation=0)\n",
    "plt.show()\n",
    "\n",
    "train_data.groupby('class').count()"
   ]
  }
 ],
 "metadata": {
  "kernelspec": {
   "display_name": "Python 3 (ipykernel)",
   "language": "python",
   "name": "python3"
  },
  "language_info": {
   "codemirror_mode": {
    "name": "ipython",
    "version": 3
   },
   "file_extension": ".py",
   "mimetype": "text/x-python",
   "name": "python",
   "nbconvert_exporter": "python",
   "pygments_lexer": "ipython3",
   "version": "3.9.7"
  }
 },
 "nbformat": 4,
 "nbformat_minor": 5
}
